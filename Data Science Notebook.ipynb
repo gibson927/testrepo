{
    "cells": [
        {
            "cell_type": "markdown",
            "metadata": {
                "collapsed": true
            },
            "source": "# My Jupyter Notebook on IBM Watson Studio"
        },
        {
            "cell_type": "markdown",
            "metadata": {},
            "source": "**Moe Giusto**\nFinancial Analyst"
        },
        {
            "cell_type": "markdown",
            "metadata": {},
            "source": "*My interest in data science stems from a robust foundation in finance and risk management, complemented by a hands-on internship in Enterprise Risk Management at FirstBank, where I engaged with various facets of data analytics. My role as a day trader further fueled my enthusiasm for data, as I developed and refined investment strategies based on quantitative and qualitative analyses, and created custom analytical indicators. The intricate work of analyzing financial statements and market data honed my appreciation for the predictive power of data analysis. Pursuing the Data Science Professional Certification from IBM is a natural progression of my journey, reflecting my commitment to harnessing data's potential to inform strategic decision-making and optimize financial models. This pursuit aligns with my career goal to blend analytical rigor with the innovative problem-solving capabilities that data science offers.*"
        },
        {
            "cell_type": "markdown",
            "metadata": {},
            "source": "### This is an example of a simple math operation:"
        },
        {
            "cell_type": "code",
            "execution_count": 2,
            "metadata": {},
            "outputs": [
                {
                    "data": {
                        "text/plain": "5"
                    },
                    "execution_count": 2,
                    "metadata": {},
                    "output_type": "execute_result"
                }
            ],
            "source": "2+3"
        },
        {
            "cell_type": "markdown",
            "metadata": {},
            "source": "### These are expamples of ordered and unordered lists, tables, and a hyperlink to my LinkedIn profile:\n\n1. Moe\n2. Giusto\n\n* Financial \n* Analyst\n\n| Fruits | Vegetables |\n| ------ | ---------- |\n| Apple | Green Beans |\n| Pear | Squash |\n| Banana | Cucumber |\n\n[ LinkedIn Profile ](https://www.linkedin.com/in/carl-giusto-4335b9170/)"
        }
    ],
    "metadata": {
        "kernelspec": {
            "display_name": "Python 3.10",
            "language": "python",
            "name": "python3"
        },
        "language_info": {
            "codemirror_mode": {
                "name": "ipython",
                "version": 3
            },
            "file_extension": ".py",
            "mimetype": "text/x-python",
            "name": "python",
            "nbconvert_exporter": "python",
            "pygments_lexer": "ipython3",
            "version": "3.10.13"
        }
    },
    "nbformat": 4,
    "nbformat_minor": 1
}